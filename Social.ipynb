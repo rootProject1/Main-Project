{
  "nbformat": 4,
  "nbformat_minor": 0,
  "metadata": {
    "colab": {
      "provenance": []
    },
    "kernelspec": {
      "name": "python3",
      "display_name": "Python 3"
    },
    "language_info": {
      "name": "python"
    }
  },
  "cells": [
    {
      "cell_type": "markdown",
      "source": [
        "# Homicidios <hr />"
      ],
      "metadata": {
        "id": "4sjXrEU3EFyF"
      }
    },
    {
      "cell_type": "code",
      "execution_count": null,
      "metadata": {
        "id": "8JjeIbi-4Brt"
      },
      "outputs": [],
      "source": [
        "import pandas\n",
        "import requests"
      ]
    },
    {
      "cell_type": "code",
      "source": [
        "from google.colab import drive\n",
        "drive.mount('/content/drive')"
      ],
      "metadata": {
        "colab": {
          "base_uri": "https://localhost:8080/"
        },
        "id": "zNxVLZ2W4s1R",
        "outputId": "8765337a-891c-4984-b867-1b67d4fcd688"
      },
      "execution_count": null,
      "outputs": [
        {
          "output_type": "stream",
          "name": "stdout",
          "text": [
            "Drive already mounted at /content/drive; to attempt to forcibly remount, call drive.mount(\"/content/drive\", force_remount=True).\n"
          ]
        }
      ]
    },
    {
      "cell_type": "code",
      "source": [
        "# Importando CSV (OBS: Substituir caminho no arquivo principal)\n",
        "dataset_homicidios = pandas.read_csv(\"/homicidios.csv\")\n",
        "\n",
        "df_homicidios = pandas.DataFrame(dataset_homicidios)\n",
        "\n",
        "print(df_homicidios)"
      ],
      "metadata": {
        "colab": {
          "base_uri": "https://localhost:8080/"
        },
        "id": "tuR6JGU25Y3f",
        "outputId": "6b5c3401-98fa-461c-a1d4-ddaf8cf9f199"
      },
      "execution_count": null,
      "outputs": [
        {
          "output_type": "stream",
          "name": "stdout",
          "text": [
            "      raça  absoluto  Taxa\n",
            "0  brancas    10.351  11.5\n",
            "1   negras     4.076  21.9\n",
            "2   pardas    34.198  34.1\n"
          ]
        }
      ]
    },
    {
      "cell_type": "code",
      "source": [
        "taxa_homicidios_brancas = df_homicidios.iloc[0]['Taxa']\n",
        "taxa_homicidios_negras = df_homicidios.iloc[1]['Taxa']\n",
        "taxa_homicidios_pardas = df_homicidios.iloc[2]['Taxa']\n",
        "\n",
        "total_homicidios = df_homicidios.iloc[0]['absoluto'] + df_homicidios.iloc[1]['absoluto'] + df_homicidios.iloc[2]['absoluto']"
      ],
      "metadata": {
        "id": "leuLxaFF7AxF"
      },
      "execution_count": null,
      "outputs": []
    },
    {
      "cell_type": "code",
      "source": [
        "print('\\n----------- Descrição estatistica pandas ----------')\n",
        "print(df_homicidios.head())\n",
        "\n",
        "\n",
        "print('\\n----------- Maximo valor ----------')\n",
        "print(df_homicidios.max())\n",
        "\n",
        "print('\\n----------- Relação entre valores ----------')\n",
        "print(f'=> Total de homicidios em um ano, independente da raça é de : {total_homicidios * 100000} pessoas')\n",
        "print(f'=> A porcentagem de homicídios de brancos é de: {taxa_homicidios_brancas}%')\n",
        "print(f'=> A porcentagem de homicídios de negros é de: {taxa_homicidios_negras}%')\n",
        "print(f'=> A porcentagem de homicídios de de pardos é de: {taxa_homicidios_pardas}%')"
      ],
      "metadata": {
        "colab": {
          "base_uri": "https://localhost:8080/"
        },
        "id": "hOfbftoM-ZwF",
        "outputId": "43dd77aa-ec85-4fa9-e6f0-4480d0d58113"
      },
      "execution_count": null,
      "outputs": [
        {
          "output_type": "stream",
          "name": "stdout",
          "text": [
            "\n",
            "----------- Descrição estatistica pandas ----------\n",
            "      raça  absoluto  Taxa\n",
            "0  brancas    10.351  11.5\n",
            "1   negras     4.076  21.9\n",
            "2   pardas    34.198  34.1\n",
            "\n",
            "----------- Maximo valor ----------\n",
            "raça        pardas\n",
            "absoluto    34.198\n",
            "Taxa          34.1\n",
            "dtype: object\n",
            "\n",
            "----------- Relação entre valores ----------\n",
            "=> Total de homicidios em um ano, independente da raça é de : 4862500.0 pessoas\n",
            "=> A porcentagem de homicídios de brancos é de: 11.5%\n",
            "=> A porcentagem de homicídios de negros é de: 21.9%\n",
            "=> A porcentagem de homicídios de de pardos é de: 34.1%\n"
          ]
        }
      ]
    },
    {
      "cell_type": "markdown",
      "source": [
        "## Conclusão previa:\n",
        "Neste cenario, é feito uma analise sobre os homicídios em um ano. \n",
        "\n",
        "Com os dados, foram evidenciados que a taxa de homicídios de negros e pardos é bem mais alta que a de brancos. \n",
        "\n",
        "O número absoluto de homicídios em 2020 foi de 4862500 pessoas.\n",
        ">Homicídios de brancos foram cerca de 11,50%;\n",
        ">Homicídios de negros foram cerca de 21,90%;\n",
        ">Homicídios de pardos foram cerca de 34,10%.\n",
        "\n",
        "Ou seja, mais de 50% dos homicídios são de pessoas negras ou pardas, o que reforça a teste."
      ],
      "metadata": {
        "id": "aOmJ14FIsRHB"
      }
    },
    {
      "cell_type": "markdown",
      "source": [
        "# Habitantes por Região <hr />"
      ],
      "metadata": {
        "id": "pmnQNYOREK8G"
      }
    },
    {
      "cell_type": "code",
      "source": [
        "# Importando CSV (OBS: Substituir caminho no arquivo principal)\n",
        "dataset_metropole = pandas.read_csv(\"/geral.csv\")\n",
        "\n",
        "df_metropole = pandas.DataFrame(dataset_metropole)\n",
        "\n",
        "print(df_metropole)"
      ],
      "metadata": {
        "colab": {
          "base_uri": "https://localhost:8080/"
        },
        "id": "jUyXqkYdENXE",
        "outputId": "7715f39b-ce42-4964-d1c4-a21ed67020d3"
      },
      "execution_count": null,
      "outputs": [
        {
          "output_type": "stream",
          "name": "stdout",
          "text": [
            "         região    total  brancas   negras   pardas\n",
            "0        brasil  212.650      43.0      9.1    73.0\n",
            "1        norte    18.578      17.7      7.5    73.4\n",
            "2      nordeste   57.522      24.7     11.4    63.1\n",
            "3       sudeste   89.611      50.7      9.6    38.7\n",
            "4           sul   30.359      75.1      4.4    19.9\n",
            "5  centro-oeste   16.581      34.7      8.7    55.8\n"
          ]
        }
      ]
    },
    {
      "cell_type": "code",
      "source": [
        "taxa_brancas_norte = df_metropole.iloc[1]['brancas ']\n",
        "taxa_brancas_nordeste = df_metropole.iloc[2]['brancas ']\n",
        "taxa_brancas_sudeste = df_metropole.iloc[3]['brancas ']\n",
        "taxa_brancas_sul = df_metropole.iloc[4]['brancas ']\n",
        "taxa_brancas_centro_oeste = df_metropole.iloc[5]['brancas ']\n",
        "\n",
        "taxa_negras_norte = df_metropole.iloc[1]['negras ']\n",
        "taxa_negras_nordeste = df_metropole.iloc[2]['negras ']\n",
        "taxa_negras_sudeste = df_metropole.iloc[3]['negras ']\n",
        "taxa_negras_sul = df_metropole.iloc[4]['negras ']\n",
        "taxa_negras_centro_oeste = df_metropole.iloc[5]['negras ']\n",
        "\n",
        "taxa_pardas_norte = df_metropole.iloc[1]['pardas']\n",
        "taxa_pardas_nordeste = df_metropole.iloc[2]['pardas']\n",
        "taxa_pardas_sudeste = df_metropole.iloc[3]['pardas']\n",
        "taxa_pardas_sul = df_metropole.iloc[4]['pardas']\n",
        "taxa_pardas_centro_oeste = df_metropole.iloc[5]['pardas']\n",
        "\n",
        "taxa_total_brancas = df_metropole.iloc[0]['brancas ']\n",
        "taxa_total_negras = df_metropole.iloc[0]['negras ']\n",
        "taxa_total_pardas = df_metropole.iloc[0]['pardas']"
      ],
      "metadata": {
        "id": "hS1o3yoYXOY4"
      },
      "execution_count": null,
      "outputs": []
    },
    {
      "cell_type": "code",
      "source": [
        "print('\\n----------- Descrição estatistica pandas ----------')\n",
        "print(df_metropole.head())\n",
        "\n",
        "print('\\n----------- Relação entre valores ----------')\n",
        "print(f'=> A porcentagem de pessoas brancas no Brasil é de : {taxa_total_brancas}%')\n",
        "print(f'=> A porcentagem de pessoas negras no Brasil é de : {taxa_total_negras}%')\n",
        "print(f'=> A porcentagem de pessoas pardas no Brasil é de : {taxa_total_pardas}%')\n",
        "\n",
        "print('\\n----------- Nordeste ----------')\n",
        "print(f'=> A porcentagem de pessoas brancas no Nordeste é de: {taxa_brancas_nordeste}%')\n",
        "print(f'=> A porcentagem de pessoas negras no Nordeste é de: {taxa_negras_nordeste}%')\n",
        "print(f'=> A porcentagem de pessoas pardas no Nordeste é de: {taxa_pardas_nordeste}%')\n",
        "\n",
        "print('\\n----------- Norte ----------')\n",
        "print(f'=> A porcentagem de pessoas brancas no Norte é de: {taxa_brancas_norte}%')\n",
        "print(f'=> A porcentagem de pessoas negras no Norte é de: {taxa_negras_norte}%')\n",
        "print(f'=> A porcentagem de pessoas pardas no Norte é de: {taxa_pardas_norte}%')\n",
        "\n",
        "print('\\n----------- Centro-Oeste ----------')\n",
        "print(f'=> A porcentagem de pessoas brancas no Centro-Oeste é de: {taxa_brancas_centro_oeste}%')\n",
        "print(f'=> A porcentagem de pessoas negras no Centro-Oeste é de: {taxa_negras_centro_oeste}%')\n",
        "print(f'=> A porcentagem de pessoas pardas no Centro-Oeste é de: {taxa_pardas_centro_oeste}%')\n",
        "\n",
        "print('\\n----------- Sudeste ----------')\n",
        "print(f'=> A porcentagem de pessoas brancas no Sudeste é de: {taxa_brancas_sudeste}%')\n",
        "print(f'=> A porcentagem de pessoas negras no Sudeste é de: {taxa_negras_sudeste}%')\n",
        "print(f'=> A porcentagem de pessoas pardas no Sudeste é de: {taxa_pardas_sudeste}%')\n",
        "\n",
        "print('\\n----------- Sul ----------')\n",
        "print(f'=> A porcentagem de pessoas brancas no Sul é de: {taxa_brancas_sul}%')\n",
        "print(f'=> A porcentagem de pessoas negras no Sul é de: {taxa_negras_sul}%')\n",
        "print(f'=> A porcentagem de pessoas pardas no Sul é de: {taxa_pardas_sul}%')"
      ],
      "metadata": {
        "colab": {
          "base_uri": "https://localhost:8080/"
        },
        "id": "KOZZN0Oyhfyd",
        "outputId": "b01422c0-07dd-4821-839b-de187cfe6b0b"
      },
      "execution_count": null,
      "outputs": [
        {
          "output_type": "stream",
          "name": "stdout",
          "text": [
            "\n",
            "----------- Descrição estatistica pandas ----------\n",
            "     região    total  brancas   negras   pardas\n",
            "0    brasil  212.650      43.0      9.1    73.0\n",
            "1    norte    18.578      17.7      7.5    73.4\n",
            "2  nordeste   57.522      24.7     11.4    63.1\n",
            "3   sudeste   89.611      50.7      9.6    38.7\n",
            "4       sul   30.359      75.1      4.4    19.9\n",
            "\n",
            "----------- Relação entre valores ----------\n",
            "=> A porcentagem de pessoas brancas no Brasil é de : 43.0%\n",
            "=> A porcentagem de pessoas negras no Brasil é de : 9.1%\n",
            "=> A porcentagem de pessoas pardas no Brasil é de : 73.0%\n",
            "\n",
            "----------- Nordeste ----------\n",
            "=> A porcentagem de pessoas brancas no Nordeste é de: 24.7%\n",
            "=> A porcentagem de pessoas negras no Nordeste é de: 11.4%\n",
            "=> A porcentagem de pessoas pardas no Nordeste é de: 63.1%\n",
            "\n",
            "----------- Norte ----------\n",
            "=> A porcentagem de pessoas brancas no Norte é de: 17.7%\n",
            "=> A porcentagem de pessoas negras no Norte é de: 7.5%\n",
            "=> A porcentagem de pessoas pardas no Norte é de: 73.4%\n",
            "\n",
            "----------- Centro-Oeste ----------\n",
            "=> A porcentagem de pessoas brancas no Centro-Oeste é de: 34.7%\n",
            "=> A porcentagem de pessoas negras no Centro-Oeste é de: 8.7%\n",
            "=> A porcentagem de pessoas pardas no Centro-Oeste é de: 55.8%\n",
            "\n",
            "----------- Sudeste ----------\n",
            "=> A porcentagem de pessoas brancas no Sudeste é de: 50.7%\n",
            "=> A porcentagem de pessoas negras no Sudeste é de: 9.6%\n",
            "=> A porcentagem de pessoas pardas no Sudeste é de: 38.7%\n",
            "\n",
            "----------- Sul ----------\n",
            "=> A porcentagem de pessoas brancas no Sul é de: 75.1%\n",
            "=> A porcentagem de pessoas negras no Sul é de: 4.4%\n",
            "=> A porcentagem de pessoas pardas no Sul é de: 19.9%\n"
          ]
        }
      ]
    },
    {
      "cell_type": "markdown",
      "source": [
        "## Conclusão previa:\n",
        "É feita uma analise sobre a raça dos habitantes no Brasil. \n",
        "\n",
        "Com os dados, identificamos que a grande maioria dos habitantes do Brasil são negros e pardos. Muito disso se deve a miscigenação dos povos. Observa-se também que as pessoas consideradas apenas negras são minoria embora a junção de negros e pardos seja a maioria.\n",
        "\n",
        ">A taxa de pessoas brancas no Brasil é cerca de 43,00%;\n",
        ">A taxa de pessoas negras no Brasil é cerca de 9,10%;\n",
        ">A taxa de pessoas pardas no Brasil é cerca de 73,00%.\n",
        "\n",
        "Ou seja, mais de 50% dos habitantes do Brasil são negros ou pardos.\n",
        "\n",
        "Observa-se também que a maior concentração de negros e pardos estão nas regiões Norte e Nordeste. As regiões Sul e Sudeste tem uma predominância de pessoas brancas. Sabemos que essas regiões onde negros e pardos predominam são menos desenvolvidas que as regiões Sul e Sudeste, o que reforça ainda mais a tese da desigualdade racial."
      ],
      "metadata": {
        "id": "cn7WvYjlwj-N"
      }
    }
  ]
}